{
 "cells": [
  {
   "cell_type": "code",
   "execution_count": 1,
   "id": "9864916a-38e1-4df4-a922-c888ff583848",
   "metadata": {},
   "outputs": [],
   "source": [
    "import pandas as pd\n",
    "import numpy as np\n",
    "import matplotlib.pyplot as plt\n",
    "from sklearn import preprocessing\n",
    "from sklearn.model_selection import train_test_split\n",
    "from sklearn.linear_model import LogisticRegression\n",
    "import statsmodels.api as sm"
   ]
  },
  {
   "cell_type": "code",
   "execution_count": 2,
   "id": "ee7b8837-89c0-4b4d-a8ee-c032f0652673",
   "metadata": {},
   "outputs": [],
   "source": [
    "df_train = pd.read_csv('../data/train.csv')\n",
    "df_test = pd.read_csv('../data/test.csv')"
   ]
  },
  {
   "cell_type": "markdown",
   "id": "26aa1a17-daac-44ca-a28c-d6815b3415ec",
   "metadata": {},
   "source": [
    "### Data cleanup"
   ]
  },
  {
   "cell_type": "code",
   "execution_count": 3,
   "id": "1af2ca32-3b1f-47d1-8f87-325252fab08a",
   "metadata": {},
   "outputs": [],
   "source": [
    "df_median_age = df_train.groupby(['Sex', 'Pclass'])['Age'].median().reset_index()\n",
    "df_median_age = df_median_age.rename(columns={'Age' : 'Median_Age'})\n",
    "\n",
    "df_train = df_train.merge(df_median_age, on=['Sex', 'Pclass'], how='left')\n",
    "df_train.loc[df_train['Age'].isna(), 'Age'] = df_train['Median_Age']\n",
    "df_train = df_train.drop(columns = 'Median_Age')\n",
    "\n",
    "df_test = df_test.merge(df_median_age, on=['Sex', 'Pclass'], how='left')\n",
    "df_test.loc[df_test['Age'].isna(), 'Age'] = df_test['Median_Age']\n",
    "df_test = df_test.drop(columns = 'Median_Age')"
   ]
  },
  {
   "cell_type": "code",
   "execution_count": 4,
   "id": "87ec30be-5e8f-4e35-b602-d2163ce223f2",
   "metadata": {},
   "outputs": [],
   "source": [
    "df_train['Cabin_Type'] = df_train.loc[df_train['Cabin'].notna()]['Cabin'].apply(lambda x: x[0])\n",
    "df_test['Cabin_Type'] = df_test.loc[df_test['Cabin'].notna()]['Cabin'].apply(lambda x: x[0])\n",
    "\n",
    "df_train['Cabin_Nos'] = df_train.loc[df_train['Cabin'].notna()]['Cabin'].apply(lambda x: len(x.split()))\n",
    "df_test['Cabin_Nos'] = df_test.loc[df_test['Cabin'].notna()]['Cabin'].apply(lambda x: len(x.split()))\n",
    "\n",
    "df_train = df_train.drop(columns='Cabin')\n",
    "df_test = df_test.drop(columns='Cabin')"
   ]
  },
  {
   "cell_type": "code",
   "execution_count": 5,
   "id": "651e141e-4689-4985-95e5-d418178f9698",
   "metadata": {},
   "outputs": [],
   "source": [
    "new_df_train = pd.get_dummies(df_train['Sex'])\n",
    "df_train = pd.concat([df_train, new_df_train], axis=1)\n",
    "\n",
    "new_df_test = pd.get_dummies(df_test['Sex'])\n",
    "df_test = pd.concat([df_test, new_df_test], axis=1)\n",
    "\n",
    "df_train = df_train.drop(columns=['Sex'])\n",
    "df_test = df_test.drop(columns=['Sex'])"
   ]
  },
  {
   "cell_type": "code",
   "execution_count": 6,
   "id": "8be9f04e-bd47-400c-a3d0-50227de9cce5",
   "metadata": {},
   "outputs": [],
   "source": [
    "df_train['Embarked'] = df_train['Embarked'].fillna('S')\n",
    "df_test['Embarked'] = df_test['Embarked'].fillna('S')\n",
    "\n",
    "new_df_train = pd.get_dummies(df_train['Embarked'])\n",
    "new_cols = ['Embarked_{}'.format(x) for x in new_df_train.columns.values]\n",
    "new_df_train.columns = new_cols\n",
    "df_train = pd.concat([df_train, new_df_train], axis=1)\n",
    "\n",
    "new_df_test = pd.get_dummies(df_test['Embarked'])\n",
    "new_cols = ['Embarked_{}'.format(x) for x in new_df_test.columns.values]\n",
    "new_df_test.columns = new_cols\n",
    "df_test = pd.concat([df_test, new_df_test], axis=1)\n",
    "\n",
    "df_train = df_train.drop(columns=['Embarked'])\n",
    "df_test = df_test.drop(columns=['Embarked'])"
   ]
  },
  {
   "cell_type": "code",
   "execution_count": 7,
   "id": "6bf6d4b9-ca35-4af0-b113-91b07494944a",
   "metadata": {},
   "outputs": [],
   "source": [
    "new_df_train = pd.get_dummies(df_train['Cabin_Type'])\n",
    "new_cols = ['Cabin_Type_{}'.format(x) for x in new_df_train.columns.values]\n",
    "new_df_train.columns = new_cols\n",
    "df_train = pd.concat([df_train, new_df_train], axis=1)\n",
    "\n",
    "new_df_test = pd.get_dummies(df_test['Cabin_Type'])\n",
    "new_cols = ['Cabin_Type_{}'.format(x) for x in new_df_test.columns.values]\n",
    "new_df_test.columns = new_cols\n",
    "df_test = pd.concat([df_test, new_df_test], axis=1)\n",
    "\n",
    "df_train = df_train.drop(columns=['Cabin_Type'])\n",
    "df_test = df_test.drop(columns=['Cabin_Type'])"
   ]
  },
  {
   "cell_type": "code",
   "execution_count": 8,
   "id": "6daa7d34-f9b3-41ac-806a-dde513ae17b5",
   "metadata": {},
   "outputs": [],
   "source": [
    "class_fare_dict = df_train.groupby('Pclass')['Fare'].median().to_dict()\n",
    "\n",
    "df_train['Pclass_Fare_median'] = df_train['Pclass'].apply(lambda x: class_fare_dict[x])\n",
    "df_test['Pclass_Fare_median'] = df_test['Pclass'].apply(lambda x: class_fare_dict[x])\n",
    "\n",
    "df_train.loc[df_train['Fare'].isna(), 'Fare'] = df_train['Pclass_Fare_median']\n",
    "df_test.loc[df_test['Fare'].isna(), 'Fare'] = df_test['Pclass_Fare_median']\n",
    "\n",
    "df_train = df_train.drop(columns = 'Pclass_Fare_median')\n",
    "df_test = df_test.drop(columns = 'Pclass_Fare_median')"
   ]
  },
  {
   "cell_type": "code",
   "execution_count": 9,
   "id": "b8da2347-837f-440f-ac91-aedd6e5928ca",
   "metadata": {},
   "outputs": [],
   "source": [
    "new_df_train = pd.get_dummies(df_train['Pclass'])\n",
    "new_cols = ['Pclass_{}'.format(x) for x in new_df_train.columns.values]\n",
    "new_df_train.columns = new_cols\n",
    "df_train = pd.concat([df_train, new_df_train], axis=1)\n",
    "\n",
    "new_df_test = pd.get_dummies(df_test['Pclass'])\n",
    "new_cols = ['Pclass_{}'.format(x) for x in new_df_test.columns.values]\n",
    "new_df_test.columns = new_cols\n",
    "df_test = pd.concat([df_test, new_df_test], axis=1)\n",
    "\n",
    "df_train = df_train.drop(columns=['Pclass'])\n",
    "df_test = df_test.drop(columns=['Pclass'])"
   ]
  },
  {
   "cell_type": "code",
   "execution_count": 10,
   "id": "039e9185-78f3-4cce-bd65-498446ba37f3",
   "metadata": {},
   "outputs": [],
   "source": [
    "df_train['Cabin_Nos'] = df_train['Cabin_Nos'].fillna(1)\n",
    "df_test['Cabin_Nos'] = df_test['Cabin_Nos'].fillna(1)"
   ]
  },
  {
   "cell_type": "code",
   "execution_count": 11,
   "id": "2b455a57-8586-4446-b3e3-aca59c81fd69",
   "metadata": {},
   "outputs": [],
   "source": [
    "df_test['Cabin_Type_T'] = 0"
   ]
  },
  {
   "cell_type": "code",
   "execution_count": 51,
   "id": "2266bbcd-1247-4bd8-90d5-1d7499fefc70",
   "metadata": {},
   "outputs": [],
   "source": [
    "inp_col_list = list(df_train.columns.values)\n",
    "inp_col_list.remove('PassengerId')\n",
    "inp_col_list.remove('Survived')\n",
    "inp_col_list.remove('Name')\n",
    "inp_col_list.remove('Ticket')\n",
    "\n",
    "inp_col_list.remove('Pclass_1')\n",
    "inp_col_list.remove('Pclass_2')\n",
    "inp_col_list.remove('Pclass_3')\n",
    "\n",
    "inp_col_list.remove('Cabin_Type_A')\n",
    "inp_col_list.remove('Cabin_Type_B')\n",
    "inp_col_list.remove('Cabin_Type_C')\n",
    "inp_col_list.remove('Cabin_Type_D')\n",
    "inp_col_list.remove('Cabin_Type_E')\n",
    "inp_col_list.remove('Cabin_Type_F')\n",
    "inp_col_list.remove('Cabin_Type_G')\n",
    "inp_col_list.remove('Cabin_Type_T')\n",
    "\n",
    "inp_col_list.remove('Embarked_C')\n",
    "inp_col_list.remove('Embarked_Q')\n",
    "inp_col_list.remove('Embarked_S')\n",
    "\n",
    "inp_col_list.remove('Parch')\n",
    "\n",
    "inp_col_list.remove('Cabin_Nos')"
   ]
  },
  {
   "cell_type": "code",
   "execution_count": 52,
   "id": "22811efc-2827-4e1a-b16a-4a6d50d345ab",
   "metadata": {},
   "outputs": [],
   "source": [
    "X = df_train[inp_col_list]\n",
    "Y = df_train['Survived']\n",
    "\n",
    "x = X.values\n",
    "min_max_scaler = preprocessing.MinMaxScaler()\n",
    "x_scaled = min_max_scaler.fit_transform(x)\n",
    "X_scaled = pd.DataFrame(x_scaled)\n",
    "\n",
    "x_train, x_test, y_train, y_test = train_test_split(X_scaled, Y, test_size=0.2, random_state=0)"
   ]
  },
  {
   "cell_type": "code",
   "execution_count": 53,
   "id": "bf791b8e-4dbb-4e13-96b6-4e36f8c8296d",
   "metadata": {},
   "outputs": [
    {
     "data": {
      "text/plain": [
       "LogisticRegression()"
      ]
     },
     "execution_count": 53,
     "metadata": {},
     "output_type": "execute_result"
    }
   ],
   "source": [
    "logreg = LogisticRegression()\n",
    "logreg.fit(x_train, y_train)"
   ]
  },
  {
   "cell_type": "code",
   "execution_count": 54,
   "id": "984fefa6-10f9-4843-867c-01c23130acde",
   "metadata": {},
   "outputs": [
    {
     "name": "stdout",
     "output_type": "stream",
     "text": [
      "0.7877094972067039\n"
     ]
    }
   ],
   "source": [
    "predictions = logreg.predict(x_test)\n",
    "score = logreg.score(x_test, y_test)\n",
    "print(score)"
   ]
  },
  {
   "cell_type": "code",
   "execution_count": 57,
   "id": "10ed434a-4cbd-430a-a396-adfbefd9f64b",
   "metadata": {},
   "outputs": [
    {
     "data": {
      "text/plain": [
       "array([[-0.81489491, -1.9909154 ,  2.4980033 ,  1.23834088, -1.23831256]])"
      ]
     },
     "execution_count": 57,
     "metadata": {},
     "output_type": "execute_result"
    }
   ],
   "source": [
    "logreg.coef_"
   ]
  },
  {
   "cell_type": "code",
   "execution_count": 55,
   "id": "c6417ea0-4956-4b3d-b2ec-f45bb17485dd",
   "metadata": {},
   "outputs": [
    {
     "name": "stdout",
     "output_type": "stream",
     "text": [
      "Optimization terminated successfully.\n",
      "         Current function value: 0.482049\n",
      "         Iterations 6\n"
     ]
    }
   ],
   "source": [
    "log_reg = sm.Logit(y_train, x_train).fit()"
   ]
  },
  {
   "cell_type": "code",
   "execution_count": 56,
   "id": "a78100fc-3f1d-4cdc-9e14-bd229bde1906",
   "metadata": {},
   "outputs": [
    {
     "data": {
      "text/html": [
       "<table class=\"simpletable\">\n",
       "<caption>Logit Regression Results</caption>\n",
       "<tr>\n",
       "  <th>Dep. Variable:</th>       <td>Survived</td>     <th>  No. Observations:  </th>  <td>   712</td>  \n",
       "</tr>\n",
       "<tr>\n",
       "  <th>Model:</th>                 <td>Logit</td>      <th>  Df Residuals:      </th>  <td>   707</td>  \n",
       "</tr>\n",
       "<tr>\n",
       "  <th>Method:</th>                 <td>MLE</td>       <th>  Df Model:          </th>  <td>     4</td>  \n",
       "</tr>\n",
       "<tr>\n",
       "  <th>Date:</th>            <td>Wed, 18 May 2022</td> <th>  Pseudo R-squ.:     </th>  <td>0.2759</td>  \n",
       "</tr>\n",
       "<tr>\n",
       "  <th>Time:</th>                <td>12:06:07</td>     <th>  Log-Likelihood:    </th> <td> -343.22</td> \n",
       "</tr>\n",
       "<tr>\n",
       "  <th>converged:</th>             <td>True</td>       <th>  LL-Null:           </th> <td> -473.99</td> \n",
       "</tr>\n",
       "<tr>\n",
       "  <th>Covariance Type:</th>     <td>nonrobust</td>    <th>  LLR p-value:       </th> <td>2.121e-55</td>\n",
       "</tr>\n",
       "</table>\n",
       "<table class=\"simpletable\">\n",
       "<tr>\n",
       "  <td></td>     <th>coef</th>     <th>std err</th>      <th>z</th>      <th>P>|z|</th>  <th>[0.025</th>    <th>0.975]</th>  \n",
       "</tr>\n",
       "<tr>\n",
       "  <th>0</th> <td>   -1.7628</td> <td>    0.623</td> <td>   -2.830</td> <td> 0.005</td> <td>   -2.984</td> <td>   -0.542</td>\n",
       "</tr>\n",
       "<tr>\n",
       "  <th>1</th> <td>   -3.9220</td> <td>    0.898</td> <td>   -4.365</td> <td> 0.000</td> <td>   -5.683</td> <td>   -2.161</td>\n",
       "</tr>\n",
       "<tr>\n",
       "  <th>2</th> <td>    6.7434</td> <td>    1.482</td> <td>    4.552</td> <td> 0.000</td> <td>    3.840</td> <td>    9.647</td>\n",
       "</tr>\n",
       "<tr>\n",
       "  <th>3</th> <td>    1.5712</td> <td>    0.282</td> <td>    5.564</td> <td> 0.000</td> <td>    1.018</td> <td>    2.125</td>\n",
       "</tr>\n",
       "<tr>\n",
       "  <th>4</th> <td>   -0.9847</td> <td>    0.257</td> <td>   -3.835</td> <td> 0.000</td> <td>   -1.488</td> <td>   -0.481</td>\n",
       "</tr>\n",
       "</table>"
      ],
      "text/plain": [
       "<class 'statsmodels.iolib.summary.Summary'>\n",
       "\"\"\"\n",
       "                           Logit Regression Results                           \n",
       "==============================================================================\n",
       "Dep. Variable:               Survived   No. Observations:                  712\n",
       "Model:                          Logit   Df Residuals:                      707\n",
       "Method:                           MLE   Df Model:                            4\n",
       "Date:                Wed, 18 May 2022   Pseudo R-squ.:                  0.2759\n",
       "Time:                        12:06:07   Log-Likelihood:                -343.22\n",
       "converged:                       True   LL-Null:                       -473.99\n",
       "Covariance Type:            nonrobust   LLR p-value:                 2.121e-55\n",
       "==============================================================================\n",
       "                 coef    std err          z      P>|z|      [0.025      0.975]\n",
       "------------------------------------------------------------------------------\n",
       "0             -1.7628      0.623     -2.830      0.005      -2.984      -0.542\n",
       "1             -3.9220      0.898     -4.365      0.000      -5.683      -2.161\n",
       "2              6.7434      1.482      4.552      0.000       3.840       9.647\n",
       "3              1.5712      0.282      5.564      0.000       1.018       2.125\n",
       "4             -0.9847      0.257     -3.835      0.000      -1.488      -0.481\n",
       "==============================================================================\n",
       "\"\"\""
      ]
     },
     "execution_count": 56,
     "metadata": {},
     "output_type": "execute_result"
    }
   ],
   "source": [
    "log_reg.summary()"
   ]
  },
  {
   "cell_type": "code",
   "execution_count": 50,
   "id": "548cb8df-93ed-4392-90f1-f4a95f995291",
   "metadata": {},
   "outputs": [
    {
     "data": {
      "text/html": [
       "<div>\n",
       "<style scoped>\n",
       "    .dataframe tbody tr th:only-of-type {\n",
       "        vertical-align: middle;\n",
       "    }\n",
       "\n",
       "    .dataframe tbody tr th {\n",
       "        vertical-align: top;\n",
       "    }\n",
       "\n",
       "    .dataframe thead th {\n",
       "        text-align: right;\n",
       "    }\n",
       "</style>\n",
       "<table border=\"1\" class=\"dataframe\">\n",
       "  <thead>\n",
       "    <tr style=\"text-align: right;\">\n",
       "      <th></th>\n",
       "      <th>Age</th>\n",
       "      <th>SibSp</th>\n",
       "      <th>Fare</th>\n",
       "      <th>Cabin_Nos</th>\n",
       "      <th>female</th>\n",
       "      <th>male</th>\n",
       "    </tr>\n",
       "  </thead>\n",
       "  <tbody>\n",
       "    <tr>\n",
       "      <th>0</th>\n",
       "      <td>22.0</td>\n",
       "      <td>1</td>\n",
       "      <td>7.2500</td>\n",
       "      <td>1.0</td>\n",
       "      <td>0</td>\n",
       "      <td>1</td>\n",
       "    </tr>\n",
       "    <tr>\n",
       "      <th>1</th>\n",
       "      <td>38.0</td>\n",
       "      <td>1</td>\n",
       "      <td>71.2833</td>\n",
       "      <td>1.0</td>\n",
       "      <td>1</td>\n",
       "      <td>0</td>\n",
       "    </tr>\n",
       "    <tr>\n",
       "      <th>2</th>\n",
       "      <td>26.0</td>\n",
       "      <td>0</td>\n",
       "      <td>7.9250</td>\n",
       "      <td>1.0</td>\n",
       "      <td>1</td>\n",
       "      <td>0</td>\n",
       "    </tr>\n",
       "    <tr>\n",
       "      <th>3</th>\n",
       "      <td>35.0</td>\n",
       "      <td>1</td>\n",
       "      <td>53.1000</td>\n",
       "      <td>1.0</td>\n",
       "      <td>1</td>\n",
       "      <td>0</td>\n",
       "    </tr>\n",
       "    <tr>\n",
       "      <th>4</th>\n",
       "      <td>35.0</td>\n",
       "      <td>0</td>\n",
       "      <td>8.0500</td>\n",
       "      <td>1.0</td>\n",
       "      <td>0</td>\n",
       "      <td>1</td>\n",
       "    </tr>\n",
       "    <tr>\n",
       "      <th>...</th>\n",
       "      <td>...</td>\n",
       "      <td>...</td>\n",
       "      <td>...</td>\n",
       "      <td>...</td>\n",
       "      <td>...</td>\n",
       "      <td>...</td>\n",
       "    </tr>\n",
       "    <tr>\n",
       "      <th>886</th>\n",
       "      <td>27.0</td>\n",
       "      <td>0</td>\n",
       "      <td>13.0000</td>\n",
       "      <td>1.0</td>\n",
       "      <td>0</td>\n",
       "      <td>1</td>\n",
       "    </tr>\n",
       "    <tr>\n",
       "      <th>887</th>\n",
       "      <td>19.0</td>\n",
       "      <td>0</td>\n",
       "      <td>30.0000</td>\n",
       "      <td>1.0</td>\n",
       "      <td>1</td>\n",
       "      <td>0</td>\n",
       "    </tr>\n",
       "    <tr>\n",
       "      <th>888</th>\n",
       "      <td>21.5</td>\n",
       "      <td>1</td>\n",
       "      <td>23.4500</td>\n",
       "      <td>1.0</td>\n",
       "      <td>1</td>\n",
       "      <td>0</td>\n",
       "    </tr>\n",
       "    <tr>\n",
       "      <th>889</th>\n",
       "      <td>26.0</td>\n",
       "      <td>0</td>\n",
       "      <td>30.0000</td>\n",
       "      <td>1.0</td>\n",
       "      <td>0</td>\n",
       "      <td>1</td>\n",
       "    </tr>\n",
       "    <tr>\n",
       "      <th>890</th>\n",
       "      <td>32.0</td>\n",
       "      <td>0</td>\n",
       "      <td>7.7500</td>\n",
       "      <td>1.0</td>\n",
       "      <td>0</td>\n",
       "      <td>1</td>\n",
       "    </tr>\n",
       "  </tbody>\n",
       "</table>\n",
       "<p>891 rows × 6 columns</p>\n",
       "</div>"
      ],
      "text/plain": [
       "      Age  SibSp     Fare  Cabin_Nos  female  male\n",
       "0    22.0      1   7.2500        1.0       0     1\n",
       "1    38.0      1  71.2833        1.0       1     0\n",
       "2    26.0      0   7.9250        1.0       1     0\n",
       "3    35.0      1  53.1000        1.0       1     0\n",
       "4    35.0      0   8.0500        1.0       0     1\n",
       "..    ...    ...      ...        ...     ...   ...\n",
       "886  27.0      0  13.0000        1.0       0     1\n",
       "887  19.0      0  30.0000        1.0       1     0\n",
       "888  21.5      1  23.4500        1.0       1     0\n",
       "889  26.0      0  30.0000        1.0       0     1\n",
       "890  32.0      0   7.7500        1.0       0     1\n",
       "\n",
       "[891 rows x 6 columns]"
      ]
     },
     "execution_count": 50,
     "metadata": {},
     "output_type": "execute_result"
    }
   ],
   "source": [
    "X"
   ]
  },
  {
   "cell_type": "code",
   "execution_count": 193,
   "id": "c97534bb-59b3-49a7-a490-33162a59133d",
   "metadata": {},
   "outputs": [],
   "source": [
    "X = df_test[inp_col_list]\n",
    "x = X.values\n",
    "min_max_scaler = preprocessing.MinMaxScaler()\n",
    "x_scaled = min_max_scaler.fit_transform(x)\n",
    "X_scaled = pd.DataFrame(x_scaled)"
   ]
  },
  {
   "cell_type": "code",
   "execution_count": 194,
   "id": "85962942-7c66-4297-a30d-cf08e1784a3e",
   "metadata": {},
   "outputs": [],
   "source": [
    "predictions = logreg.predict(X_scaled)"
   ]
  },
  {
   "cell_type": "code",
   "execution_count": 195,
   "id": "9ec899fc-8692-42d8-ad74-48e4f2972300",
   "metadata": {},
   "outputs": [],
   "source": [
    "df_test['Survived'] = predictions"
   ]
  },
  {
   "cell_type": "code",
   "execution_count": 196,
   "id": "c094fd5d-2b16-4edb-ade2-ccb4a7084a21",
   "metadata": {},
   "outputs": [],
   "source": [
    "df_test[['PassengerId', 'Survived']].to_csv('../submissions/logistic_regression_submission.csv', index=False)"
   ]
  },
  {
   "cell_type": "code",
   "execution_count": null,
   "id": "81c8f534-414a-49b1-b193-82ecfd4582f7",
   "metadata": {},
   "outputs": [],
   "source": []
  }
 ],
 "metadata": {
  "kernelspec": {
   "display_name": "Python 3 (ipykernel)",
   "language": "python",
   "name": "python3"
  },
  "language_info": {
   "codemirror_mode": {
    "name": "ipython",
    "version": 3
   },
   "file_extension": ".py",
   "mimetype": "text/x-python",
   "name": "python",
   "nbconvert_exporter": "python",
   "pygments_lexer": "ipython3",
   "version": "3.10.4"
  }
 },
 "nbformat": 4,
 "nbformat_minor": 5
}
