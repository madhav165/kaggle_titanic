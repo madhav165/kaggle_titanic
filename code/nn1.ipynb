{
 "cells": [
  {
   "cell_type": "code",
   "execution_count": 170,
   "id": "dc8169a8-6dab-4e7e-8812-e1db4e9ddd17",
   "metadata": {},
   "outputs": [],
   "source": [
    "import pandas as pd\n",
    "import tensorflow as tf\n",
    "from sklearn.preprocessing import StandardScaler\n",
    "from sklearn.model_selection import train_test_split\n",
    "from tensorflow.keras.models import Sequential, load_model\n",
    "from tensorflow.keras.layers import Dense, Dropout"
   ]
  },
  {
   "cell_type": "code",
   "execution_count": 171,
   "id": "d17cae30-427a-4987-8821-2f426e88f4b1",
   "metadata": {},
   "outputs": [],
   "source": [
    "tf.random.set_seed(1234)"
   ]
  },
  {
   "cell_type": "code",
   "execution_count": 158,
   "id": "a4b610af-6396-450c-b6f7-f3e861fffc09",
   "metadata": {},
   "outputs": [],
   "source": [
    "df_train = pd.read_csv('../data/train_clean_imp.csv')\n",
    "df_test = pd.read_csv('../data/test_clean_imp.csv')"
   ]
  },
  {
   "cell_type": "code",
   "execution_count": 159,
   "id": "d8170862-0c43-4ee0-9cab-0a172e246937",
   "metadata": {},
   "outputs": [
    {
     "name": "stderr",
     "output_type": "stream",
     "text": [
      "/tmp/ipykernel_38136/3151433023.py:31: SettingWithCopyWarning: \n",
      "A value is trying to be set on a copy of a slice from a DataFrame.\n",
      "Try using .loc[row_indexer,col_indexer] = value instead\n",
      "\n",
      "See the caveats in the documentation: https://pandas.pydata.org/pandas-docs/stable/user_guide/indexing.html#returning-a-view-versus-a-copy\n",
      "  X_train.loc[:,'{}_sq'.format(x)] = X_train[x]**2\n",
      "/tmp/ipykernel_38136/3151433023.py:32: SettingWithCopyWarning: \n",
      "A value is trying to be set on a copy of a slice from a DataFrame.\n",
      "Try using .loc[row_indexer,col_indexer] = value instead\n",
      "\n",
      "See the caveats in the documentation: https://pandas.pydata.org/pandas-docs/stable/user_guide/indexing.html#returning-a-view-versus-a-copy\n",
      "  X_train.loc[:,'{}_sqrt'.format(x)] = X_train[x]**0.5\n",
      "/tmp/ipykernel_38136/3151433023.py:31: SettingWithCopyWarning: \n",
      "A value is trying to be set on a copy of a slice from a DataFrame.\n",
      "Try using .loc[row_indexer,col_indexer] = value instead\n",
      "\n",
      "See the caveats in the documentation: https://pandas.pydata.org/pandas-docs/stable/user_guide/indexing.html#returning-a-view-versus-a-copy\n",
      "  X_train.loc[:,'{}_sq'.format(x)] = X_train[x]**2\n"
     ]
    }
   ],
   "source": [
    "inp_col_list = list(df_train.columns.values)\n",
    "inp_col_list.remove('PassengerId')\n",
    "inp_col_list.remove('Survived')\n",
    "inp_col_list.remove('Name')\n",
    "inp_col_list.remove('Ticket')\n",
    "\n",
    "# inp_col_list.remove('Pclass_1')\n",
    "# inp_col_list.remove('Pclass_2')\n",
    "# inp_col_list.remove('Pclass_3')\n",
    "\n",
    "# inp_col_list.remove('Cabin_Type_A')\n",
    "# inp_col_list.remove('Cabin_Type_B')\n",
    "# inp_col_list.remove('Cabin_Type_C')\n",
    "# inp_col_list.remove('Cabin_Type_D')\n",
    "# inp_col_list.remove('Cabin_Type_E')\n",
    "# inp_col_list.remove('Cabin_Type_F')\n",
    "# inp_col_list.remove('Cabin_Type_G')\n",
    "# inp_col_list.remove('Cabin_Type_T')\n",
    "\n",
    "# inp_col_list.remove('Embarked_C')\n",
    "# inp_col_list.remove('Embarked_Q')\n",
    "# inp_col_list.remove('Embarked_S')\n",
    "\n",
    "# inp_col_list.remove('Parch')\n",
    "# inp_col_list.remove('Cabin_Nos')\n",
    "\n",
    "X_train = df_train[inp_col_list]\n",
    "Y_train = df_train['Survived']\n",
    "\n",
    "for x in inp_col_list:\n",
    "    X_train.loc[:,'{}_sq'.format(x)] = X_train[x]**2\n",
    "    X_train.loc[:,'{}_sqrt'.format(x)] = X_train[x]**0.5\n",
    "\n",
    "x = X_train.values\n",
    "standard_scaler = StandardScaler()\n",
    "x_scaled = standard_scaler.fit_transform(x)\n",
    "X_train_scaled = pd.DataFrame(x_scaled)\n",
    "\n",
    "x_train, x_test, y_train, y_test = train_test_split(X_train_scaled, Y, test_size=0.2, random_state=42)"
   ]
  },
  {
   "cell_type": "code",
   "execution_count": 160,
   "id": "e31bfc57-d3f9-4bdb-9d56-3ec042a62a81",
   "metadata": {},
   "outputs": [
    {
     "name": "stderr",
     "output_type": "stream",
     "text": [
      "/tmp/ipykernel_38136/3672479347.py:29: SettingWithCopyWarning: \n",
      "A value is trying to be set on a copy of a slice from a DataFrame.\n",
      "Try using .loc[row_indexer,col_indexer] = value instead\n",
      "\n",
      "See the caveats in the documentation: https://pandas.pydata.org/pandas-docs/stable/user_guide/indexing.html#returning-a-view-versus-a-copy\n",
      "  X_test.loc[:,'{}_sq'.format(x)] = X_test[x]**2\n",
      "/tmp/ipykernel_38136/3672479347.py:30: SettingWithCopyWarning: \n",
      "A value is trying to be set on a copy of a slice from a DataFrame.\n",
      "Try using .loc[row_indexer,col_indexer] = value instead\n",
      "\n",
      "See the caveats in the documentation: https://pandas.pydata.org/pandas-docs/stable/user_guide/indexing.html#returning-a-view-versus-a-copy\n",
      "  X_test.loc[:,'{}_sqrt'.format(x)] = X_test[x]**0.5\n"
     ]
    }
   ],
   "source": [
    "inp_col_list = list(df_test.columns.values)\n",
    "inp_col_list.remove('PassengerId')\n",
    "inp_col_list.remove('Name')\n",
    "inp_col_list.remove('Ticket')\n",
    "\n",
    "# inp_col_list.remove('Pclass_1')\n",
    "# inp_col_list.remove('Pclass_2')\n",
    "# inp_col_list.remove('Pclass_3')\n",
    "\n",
    "# inp_col_list.remove('Cabin_Type_A')\n",
    "# inp_col_list.remove('Cabin_Type_B')\n",
    "# inp_col_list.remove('Cabin_Type_C')\n",
    "# inp_col_list.remove('Cabin_Type_D')\n",
    "# inp_col_list.remove('Cabin_Type_E')\n",
    "# inp_col_list.remove('Cabin_Type_F')\n",
    "# inp_col_list.remove('Cabin_Type_G')\n",
    "# inp_col_list.remove('Cabin_Type_T')\n",
    "\n",
    "# inp_col_list.remove('Embarked_C')\n",
    "# inp_col_list.remove('Embarked_Q')\n",
    "# inp_col_list.remove('Embarked_S')\n",
    "\n",
    "# inp_col_list.remove('Parch')\n",
    "# inp_col_list.remove('Cabin_Nos')\n",
    "\n",
    "X_test = df_test[inp_col_list]\n",
    "\n",
    "for x in inp_col_list:\n",
    "    X_test.loc[:,'{}_sq'.format(x)] = X_test[x]**2\n",
    "    X_test.loc[:,'{}_sqrt'.format(x)] = X_test[x]**0.5\n",
    "    \n",
    "x = X_test.values\n",
    "x_test_scaled = standard_scaler.transform(x)\n",
    "X_test_scaled = pd.DataFrame(x_test_scaled)"
   ]
  },
  {
   "cell_type": "code",
   "execution_count": 161,
   "id": "8d24f95b-7d43-4fea-9f6b-77ccf1e3d8ed",
   "metadata": {},
   "outputs": [],
   "source": [
    "feature_len = x_train.shape[1]"
   ]
  },
  {
   "cell_type": "code",
   "execution_count": 182,
   "id": "4ce15dc8-f452-430d-8cef-f2ad137da843",
   "metadata": {},
   "outputs": [],
   "source": [
    "model = Sequential()\n",
    "\n",
    "model.add(Dense(feature_len, activation='relu'))\n",
    "model.add(Dense(20, activation='relu'))\n",
    "model.add(Dropout(0.5))\n",
    "model.add(Dense(10, activation='relu'))\n",
    "model.add(Dropout(0.5))\n",
    "model.add(Dense(4, activation='relu'))\n",
    "model.add(Dense(1, activation='sigmoid'))\n",
    "\n",
    "model.compile(optimizer='rmsprop',\n",
    "              loss = 'binary_crossentropy',\n",
    "              metrics = ['accuracy'])"
   ]
  },
  {
   "cell_type": "code",
   "execution_count": 183,
   "id": "ead71a86-8059-4e7e-9ace-0f14fd9e7504",
   "metadata": {},
   "outputs": [
    {
     "name": "stdout",
     "output_type": "stream",
     "text": [
      "Epoch 1/20\n",
      "23/23 [==============================] - 1s 7ms/step - loss: 0.7768 - accuracy: 0.4621 - val_loss: 0.6967 - val_accuracy: 0.6145\n",
      "Epoch 2/20\n",
      "23/23 [==============================] - 0s 3ms/step - loss: 0.7050 - accuracy: 0.5660 - val_loss: 0.6844 - val_accuracy: 0.6425\n",
      "Epoch 3/20\n",
      "23/23 [==============================] - 0s 3ms/step - loss: 0.6868 - accuracy: 0.6166 - val_loss: 0.6680 - val_accuracy: 0.6313\n",
      "Epoch 4/20\n",
      "23/23 [==============================] - 0s 4ms/step - loss: 0.6692 - accuracy: 0.6601 - val_loss: 0.6572 - val_accuracy: 0.6313\n",
      "Epoch 5/20\n",
      "23/23 [==============================] - 0s 3ms/step - loss: 0.6656 - accuracy: 0.6320 - val_loss: 0.6401 - val_accuracy: 0.6369\n",
      "Epoch 6/20\n",
      "23/23 [==============================] - 0s 3ms/step - loss: 0.6521 - accuracy: 0.6671 - val_loss: 0.6243 - val_accuracy: 0.6592\n",
      "Epoch 7/20\n",
      "23/23 [==============================] - 0s 3ms/step - loss: 0.6375 - accuracy: 0.6587 - val_loss: 0.6086 - val_accuracy: 0.6704\n",
      "Epoch 8/20\n",
      "23/23 [==============================] - 0s 4ms/step - loss: 0.6292 - accuracy: 0.6601 - val_loss: 0.5985 - val_accuracy: 0.6927\n",
      "Epoch 9/20\n",
      "23/23 [==============================] - 0s 4ms/step - loss: 0.6170 - accuracy: 0.6798 - val_loss: 0.5827 - val_accuracy: 0.6983\n",
      "Epoch 10/20\n",
      "23/23 [==============================] - 0s 3ms/step - loss: 0.5982 - accuracy: 0.6952 - val_loss: 0.5586 - val_accuracy: 0.7709\n",
      "Epoch 11/20\n",
      "23/23 [==============================] - 0s 3ms/step - loss: 0.5875 - accuracy: 0.7107 - val_loss: 0.5401 - val_accuracy: 0.7486\n",
      "Epoch 12/20\n",
      "23/23 [==============================] - 0s 4ms/step - loss: 0.5902 - accuracy: 0.7177 - val_loss: 0.5330 - val_accuracy: 0.7654\n",
      "Epoch 13/20\n",
      "23/23 [==============================] - 0s 4ms/step - loss: 0.5833 - accuracy: 0.7022 - val_loss: 0.5358 - val_accuracy: 0.7374\n",
      "Epoch 14/20\n",
      "23/23 [==============================] - 0s 3ms/step - loss: 0.5926 - accuracy: 0.7163 - val_loss: 0.5339 - val_accuracy: 0.7374\n",
      "Epoch 15/20\n",
      "23/23 [==============================] - 0s 3ms/step - loss: 0.5742 - accuracy: 0.7261 - val_loss: 0.5268 - val_accuracy: 0.7430\n",
      "Epoch 16/20\n",
      "23/23 [==============================] - 0s 4ms/step - loss: 0.5853 - accuracy: 0.7149 - val_loss: 0.5297 - val_accuracy: 0.7430\n",
      "Epoch 17/20\n",
      "23/23 [==============================] - 0s 4ms/step - loss: 0.5632 - accuracy: 0.7374 - val_loss: 0.5338 - val_accuracy: 0.7430\n",
      "Epoch 18/20\n",
      "23/23 [==============================] - 0s 3ms/step - loss: 0.5486 - accuracy: 0.7261 - val_loss: 0.5242 - val_accuracy: 0.7542\n",
      "Epoch 19/20\n",
      "23/23 [==============================] - 0s 4ms/step - loss: 0.5672 - accuracy: 0.7374 - val_loss: 0.5273 - val_accuracy: 0.7318\n",
      "Epoch 20/20\n",
      "23/23 [==============================] - 0s 4ms/step - loss: 0.5841 - accuracy: 0.7121 - val_loss: 0.5272 - val_accuracy: 0.7430\n"
     ]
    },
    {
     "data": {
      "text/plain": [
       "<keras.callbacks.History at 0x7feba4adb760>"
      ]
     },
     "execution_count": 183,
     "metadata": {},
     "output_type": "execute_result"
    }
   ],
   "source": [
    "model.fit(x = x_train, y = y_train, epochs = 20, validation_data = (x_test, y_test))"
   ]
  },
  {
   "cell_type": "code",
   "execution_count": 166,
   "id": "cd2731ba-4254-4bda-8a8d-358d45dc7640",
   "metadata": {},
   "outputs": [],
   "source": [
    "predictions = pd.Series(model.predict(X_test_scaled).flatten(), name='Survived').apply(lambda x: 1 if x > 0.5 else 0)"
   ]
  },
  {
   "cell_type": "code",
   "execution_count": 167,
   "id": "017ee877-af76-4dc1-8598-f64221e67856",
   "metadata": {},
   "outputs": [],
   "source": [
    "pd.concat([df_test, predictions], axis=1)[['PassengerId', 'Survived']].to_csv('../submissions/nn3_submission.csv', index=False)"
   ]
  },
  {
   "cell_type": "code",
   "execution_count": 184,
   "id": "ac03d44f-7b68-474f-8818-90960ee7642a",
   "metadata": {},
   "outputs": [],
   "source": [
    "model.save('../models/nn1_model.h5')"
   ]
  }
 ],
 "metadata": {
  "kernelspec": {
   "display_name": "Python 3 (ipykernel)",
   "language": "python",
   "name": "python3"
  },
  "language_info": {
   "codemirror_mode": {
    "name": "ipython",
    "version": 3
   },
   "file_extension": ".py",
   "mimetype": "text/x-python",
   "name": "python",
   "nbconvert_exporter": "python",
   "pygments_lexer": "ipython3",
   "version": "3.10.4"
  }
 },
 "nbformat": 4,
 "nbformat_minor": 5
}
