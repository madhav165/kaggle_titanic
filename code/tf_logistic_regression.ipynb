{
 "cells": [
  {
   "cell_type": "code",
   "execution_count": 1,
   "id": "5ea73c39-9392-4034-9e7f-08870d14a9b0",
   "metadata": {},
   "outputs": [],
   "source": [
    "import pandas as pd\n",
    "import numpy as np\n",
    "import tensorflow as tf\n",
    "from sklearn.preprocessing import StandardScaler\n",
    "from sklearn.model_selection import train_test_split"
   ]
  },
  {
   "cell_type": "code",
   "execution_count": 2,
   "id": "f692f929-f330-4f8c-b8f1-ae983974e5c0",
   "metadata": {},
   "outputs": [],
   "source": [
    "df_train = pd.read_csv('../data/train.csv')\n",
    "df_test = pd.read_csv('../data/test.csv')"
   ]
  },
  {
   "cell_type": "code",
   "execution_count": 3,
   "id": "a5a57bf4-ffe2-4c77-9c3f-6122576b19d9",
   "metadata": {},
   "outputs": [],
   "source": [
    "df_median_age = df_train.groupby(['Sex', 'Pclass'])['Age'].median().reset_index()\n",
    "df_median_age = df_median_age.rename(columns={'Age' : 'Median_Age'})\n",
    "\n",
    "df_train = df_train.merge(df_median_age, on=['Sex', 'Pclass'], how='left')\n",
    "df_train.loc[df_train['Age'].isna(), 'Age'] = df_train['Median_Age']\n",
    "df_train = df_train.drop(columns = 'Median_Age')\n",
    "\n",
    "df_test = df_test.merge(df_median_age, on=['Sex', 'Pclass'], how='left')\n",
    "df_test.loc[df_test['Age'].isna(), 'Age'] = df_test['Median_Age']\n",
    "df_test = df_test.drop(columns = 'Median_Age')\n",
    "\n",
    "df_train['Cabin_Type'] = df_train.loc[df_train['Cabin'].notna()]['Cabin'].apply(lambda x: x[0])\n",
    "df_test['Cabin_Type'] = df_test.loc[df_test['Cabin'].notna()]['Cabin'].apply(lambda x: x[0])\n",
    "\n",
    "df_train['Cabin_Nos'] = df_train.loc[df_train['Cabin'].notna()]['Cabin'].apply(lambda x: len(x.split()))\n",
    "df_test['Cabin_Nos'] = df_test.loc[df_test['Cabin'].notna()]['Cabin'].apply(lambda x: len(x.split()))\n",
    "\n",
    "df_train = df_train.drop(columns='Cabin')\n",
    "df_test = df_test.drop(columns='Cabin')\n",
    "\n",
    "df_train['Sex'] = df_train['Sex'].apply(lambda x: 1 if x=='male' else 0)\n",
    "df_test['Sex'] = df_test['Sex'].apply(lambda x: 1 if x=='male' else 0)\n",
    "\n",
    "df_train['Embarked'] = df_train['Embarked'].fillna('S')\n",
    "df_test['Embarked'] = df_test['Embarked'].fillna('S')\n",
    "\n",
    "new_df_train = pd.get_dummies(df_train['Embarked'])\n",
    "new_cols = ['Embarked_{}'.format(x) for x in new_df_train.columns.values]\n",
    "new_df_train.columns = new_cols\n",
    "df_train = pd.concat([df_train, new_df_train], axis=1)\n",
    "\n",
    "new_df_test = pd.get_dummies(df_test['Embarked'])\n",
    "new_cols = ['Embarked_{}'.format(x) for x in new_df_test.columns.values]\n",
    "new_df_test.columns = new_cols\n",
    "df_test = pd.concat([df_test, new_df_test], axis=1)\n",
    "\n",
    "df_train = df_train.drop(columns=['Embarked'])\n",
    "df_test = df_test.drop(columns=['Embarked'])\n",
    "\n",
    "new_df_train = pd.get_dummies(df_train['Cabin_Type'])\n",
    "new_cols = ['Cabin_Type_{}'.format(x) for x in new_df_train.columns.values]\n",
    "new_df_train.columns = new_cols\n",
    "df_train = pd.concat([df_train, new_df_train], axis=1)\n",
    "\n",
    "new_df_test = pd.get_dummies(df_test['Cabin_Type'])\n",
    "new_cols = ['Cabin_Type_{}'.format(x) for x in new_df_test.columns.values]\n",
    "new_df_test.columns = new_cols\n",
    "df_test = pd.concat([df_test, new_df_test], axis=1)\n",
    "\n",
    "df_train = df_train.drop(columns=['Cabin_Type'])\n",
    "df_test = df_test.drop(columns=['Cabin_Type'])\n",
    "\n",
    "new_df_train = pd.get_dummies(df_train['Pclass'])\n",
    "new_cols = ['Pclass_{}'.format(x) for x in new_df_train.columns.values]\n",
    "new_df_train.columns = new_cols\n",
    "df_train = pd.concat([df_train, new_df_train], axis=1)\n",
    "\n",
    "new_df_test = pd.get_dummies(df_test['Pclass'])\n",
    "new_cols = ['Pclass_{}'.format(x) for x in new_df_test.columns.values]\n",
    "new_df_test.columns = new_cols\n",
    "df_test = pd.concat([df_test, new_df_test], axis=1)\n",
    "\n",
    "df_train = df_train.drop(columns=['Pclass'])\n",
    "df_test = df_test.drop(columns=['Pclass'])\n",
    "\n",
    "df_train['Cabin_Nos'] = df_train['Cabin_Nos'].fillna(1)\n",
    "df_test['Cabin_Nos'] = df_test['Cabin_Nos'].fillna(1)\n",
    "\n",
    "df_test['Cabin_Type_T'] = 0"
   ]
  },
  {
   "cell_type": "code",
   "execution_count": 17,
   "id": "3c2c7bbe-aa91-4685-9e7c-21d559df745f",
   "metadata": {},
   "outputs": [],
   "source": [
    "inp_col_list = list(df_train.columns.values)\n",
    "inp_col_list.remove('PassengerId')\n",
    "inp_col_list.remove('Survived')\n",
    "inp_col_list.remove('Name')\n",
    "inp_col_list.remove('Ticket')\n",
    "\n",
    "X_train = df_train[inp_col_list]\n",
    "Y_train = df_train['Survived']\n",
    "\n",
    "inp_col_list = list(df_test.columns.values)\n",
    "inp_col_list.remove('PassengerId')\n",
    "inp_col_list.remove('Name')\n",
    "inp_col_list.remove('Ticket')\n",
    "\n",
    "X_test = df_test[inp_col_list]"
   ]
  },
  {
   "cell_type": "code",
   "execution_count": 18,
   "id": "fc6dafae-4c15-4ad3-b54e-fcebb9e2db0e",
   "metadata": {},
   "outputs": [],
   "source": [
    "standard_scaler = StandardScaler()\n",
    "x_train_scaled = standard_scaler.fit_transform(X_train.values)\n",
    "X_train_scaled = pd.DataFrame(x_train_scaled)\n",
    "x_test_scaled = standard_scaler.fit_transform(X_test.values)\n",
    "X_test_scaled = pd.DataFrame(x_test_scaled)\n",
    "\n",
    "x_train, x_val, y_train, y_val = train_test_split(X_train_scaled, Y_train, test_size=0.2, random_state=0)"
   ]
  },
  {
   "cell_type": "code",
   "execution_count": 46,
   "id": "ea48372c-aff5-4281-99f9-635d584451f0",
   "metadata": {},
   "outputs": [],
   "source": [
    "num_classes = 2\n",
    "num_features = x_train.shape[1]\n",
    "learning_rate = 3e-4\n",
    "training_steps = 1000\n",
    "batch_size = 64\n",
    "display_step = 100"
   ]
  },
  {
   "cell_type": "code",
   "execution_count": 47,
   "id": "9104db9c-95dd-46bf-9e36-0c71b8f2d03f",
   "metadata": {},
   "outputs": [],
   "source": [
    "train_data=tf.data.Dataset.from_tensor_slices((x_train.values,y_train.values))\n",
    "train_data=train_data.repeat().shuffle(100).batch(batch_size).prefetch(1)"
   ]
  },
  {
   "cell_type": "code",
   "execution_count": 48,
   "id": "cf0c0708-39cb-49d6-ae2b-375bb8dd73f5",
   "metadata": {},
   "outputs": [],
   "source": [
    "W = tf.Variable(tf.random.normal([num_features, num_classes], dtype='float64'), name=\"weight\")\n",
    "b = tf.Variable(tf.zeros([num_classes], dtype='float64'), name=\"bias\")"
   ]
  },
  {
   "cell_type": "code",
   "execution_count": 49,
   "id": "f24f2d90-0946-462b-8155-6a13b13adb1d",
   "metadata": {},
   "outputs": [],
   "source": [
    "optimizer = tf.optimizers.SGD(learning_rate)"
   ]
  },
  {
   "cell_type": "code",
   "execution_count": 50,
   "id": "59f74fce-4c16-42bc-a764-fe07eeb53b45",
   "metadata": {},
   "outputs": [],
   "source": [
    "def logistic_regression(x):\n",
    "    return tf.nn.softmax(tf.matmul(x, W) + b)"
   ]
  },
  {
   "cell_type": "code",
   "execution_count": 51,
   "id": "339ece13-458a-46a3-bcc3-4ffde3e48d2f",
   "metadata": {},
   "outputs": [],
   "source": [
    "def cross_entropy(y_pred, y_true):\n",
    "    y_true = tf.one_hot(y_true, depth = num_classes, dtype='float64')\n",
    "    y_pred = tf.clip_by_value(y_pred, 1e-9, 1.)\n",
    "    return -1*tf.reduce_mean(tf.reduce_sum(y_true * tf.math.log(y_pred)))"
   ]
  },
  {
   "cell_type": "code",
   "execution_count": 52,
   "id": "cefaa4ec-4c01-4334-b32f-a9286911f1c2",
   "metadata": {},
   "outputs": [],
   "source": [
    "def accuracy(y_pred, y_true):\n",
    "    correct_predictions = tf.equal(tf.argmax(y_pred, 1), tf.cast(y_true, tf.int64))\n",
    "    return tf.reduce_mean(tf.cast(correct_predictions, tf.float32))"
   ]
  },
  {
   "cell_type": "code",
   "execution_count": 53,
   "id": "b7fb3050-fed7-4137-bb84-288ff830bbce",
   "metadata": {},
   "outputs": [],
   "source": [
    "def run_optimization(x, y):\n",
    "    with tf.GradientTape() as g:\n",
    "        pred = logistic_regression(x)\n",
    "        loss = cross_entropy(pred, y)\n",
    "        gradients = g.gradient(loss, [W, b])\n",
    "        optimizer.apply_gradients(zip(gradients, [W, b]))"
   ]
  },
  {
   "cell_type": "code",
   "execution_count": 54,
   "id": "008c94ae-c745-4de5-a279-8391e21afb9a",
   "metadata": {},
   "outputs": [
    {
     "name": "stderr",
     "output_type": "stream",
     "text": [
      "2022-05-24 22:29:44.932721: E tensorflow/stream_executor/cuda/cuda_blas.cc:226] failed to create cublas handle: CUBLAS_STATUS_NOT_INITIALIZED\n",
      "2022-05-24 22:29:44.932784: W tensorflow/core/framework/op_kernel.cc:1745] OP_REQUIRES failed at matmul_op_impl.h:438 : INTERNAL: Attempting to perform BLAS operation using StreamExecutor without BLAS support\n"
     ]
    },
    {
     "ename": "InternalError",
     "evalue": "Attempting to perform BLAS operation using StreamExecutor without BLAS support [Op:MatMul]",
     "output_type": "error",
     "traceback": [
      "\u001b[0;31m---------------------------------------------------------------------------\u001b[0m",
      "\u001b[0;31mInternalError\u001b[0m                             Traceback (most recent call last)",
      "Input \u001b[0;32mIn [54]\u001b[0m, in \u001b[0;36m<cell line: 1>\u001b[0;34m()\u001b[0m\n\u001b[1;32m      1\u001b[0m \u001b[38;5;28;01mfor\u001b[39;00m step, (batch_x, batch_y) \u001b[38;5;129;01min\u001b[39;00m \u001b[38;5;28menumerate\u001b[39m(train_data\u001b[38;5;241m.\u001b[39mtake(training_steps), \u001b[38;5;241m1\u001b[39m):\n\u001b[0;32m----> 2\u001b[0m     \u001b[43mrun_optimization\u001b[49m\u001b[43m(\u001b[49m\u001b[43mbatch_x\u001b[49m\u001b[43m,\u001b[49m\u001b[43m \u001b[49m\u001b[43mbatch_y\u001b[49m\u001b[43m)\u001b[49m\n\u001b[1;32m      3\u001b[0m     \u001b[38;5;28;01mif\u001b[39;00m step \u001b[38;5;241m%\u001b[39m display_step \u001b[38;5;241m==\u001b[39m \u001b[38;5;241m0\u001b[39m:\n\u001b[1;32m      4\u001b[0m         pred \u001b[38;5;241m=\u001b[39m logistic_regression(batch_x)\n",
      "Input \u001b[0;32mIn [53]\u001b[0m, in \u001b[0;36mrun_optimization\u001b[0;34m(x, y)\u001b[0m\n\u001b[1;32m      1\u001b[0m \u001b[38;5;28;01mdef\u001b[39;00m \u001b[38;5;21mrun_optimization\u001b[39m(x, y):\n\u001b[1;32m      2\u001b[0m     \u001b[38;5;28;01mwith\u001b[39;00m tf\u001b[38;5;241m.\u001b[39mGradientTape() \u001b[38;5;28;01mas\u001b[39;00m g:\n\u001b[0;32m----> 3\u001b[0m         pred \u001b[38;5;241m=\u001b[39m \u001b[43mlogistic_regression\u001b[49m\u001b[43m(\u001b[49m\u001b[43mx\u001b[49m\u001b[43m)\u001b[49m\n\u001b[1;32m      4\u001b[0m         loss \u001b[38;5;241m=\u001b[39m cross_entropy(pred, y)\n\u001b[1;32m      5\u001b[0m         gradients \u001b[38;5;241m=\u001b[39m g\u001b[38;5;241m.\u001b[39mgradient(loss, [W, b])\n",
      "Input \u001b[0;32mIn [50]\u001b[0m, in \u001b[0;36mlogistic_regression\u001b[0;34m(x)\u001b[0m\n\u001b[1;32m      1\u001b[0m \u001b[38;5;28;01mdef\u001b[39;00m \u001b[38;5;21mlogistic_regression\u001b[39m(x):\n\u001b[0;32m----> 2\u001b[0m     \u001b[38;5;28;01mreturn\u001b[39;00m tf\u001b[38;5;241m.\u001b[39mnn\u001b[38;5;241m.\u001b[39msoftmax(\u001b[43mtf\u001b[49m\u001b[38;5;241;43m.\u001b[39;49m\u001b[43mmatmul\u001b[49m\u001b[43m(\u001b[49m\u001b[43mx\u001b[49m\u001b[43m,\u001b[49m\u001b[43m \u001b[49m\u001b[43mW\u001b[49m\u001b[43m)\u001b[49m \u001b[38;5;241m+\u001b[39m b)\n",
      "File \u001b[0;32m~/anaconda3/envs/kgl_titanic/lib/python3.10/site-packages/tensorflow/python/util/traceback_utils.py:153\u001b[0m, in \u001b[0;36mfilter_traceback.<locals>.error_handler\u001b[0;34m(*args, **kwargs)\u001b[0m\n\u001b[1;32m    151\u001b[0m \u001b[38;5;28;01mexcept\u001b[39;00m \u001b[38;5;167;01mException\u001b[39;00m \u001b[38;5;28;01mas\u001b[39;00m e:\n\u001b[1;32m    152\u001b[0m   filtered_tb \u001b[38;5;241m=\u001b[39m _process_traceback_frames(e\u001b[38;5;241m.\u001b[39m__traceback__)\n\u001b[0;32m--> 153\u001b[0m   \u001b[38;5;28;01mraise\u001b[39;00m e\u001b[38;5;241m.\u001b[39mwith_traceback(filtered_tb) \u001b[38;5;28;01mfrom\u001b[39;00m \u001b[38;5;28mNone\u001b[39m\n\u001b[1;32m    154\u001b[0m \u001b[38;5;28;01mfinally\u001b[39;00m:\n\u001b[1;32m    155\u001b[0m   \u001b[38;5;28;01mdel\u001b[39;00m filtered_tb\n",
      "File \u001b[0;32m~/anaconda3/envs/kgl_titanic/lib/python3.10/site-packages/tensorflow/python/framework/ops.py:7107\u001b[0m, in \u001b[0;36mraise_from_not_ok_status\u001b[0;34m(e, name)\u001b[0m\n\u001b[1;32m   7105\u001b[0m \u001b[38;5;28;01mdef\u001b[39;00m \u001b[38;5;21mraise_from_not_ok_status\u001b[39m(e, name):\n\u001b[1;32m   7106\u001b[0m   e\u001b[38;5;241m.\u001b[39mmessage \u001b[38;5;241m+\u001b[39m\u001b[38;5;241m=\u001b[39m (\u001b[38;5;124m\"\u001b[39m\u001b[38;5;124m name: \u001b[39m\u001b[38;5;124m\"\u001b[39m \u001b[38;5;241m+\u001b[39m name \u001b[38;5;28;01mif\u001b[39;00m name \u001b[38;5;129;01mis\u001b[39;00m \u001b[38;5;129;01mnot\u001b[39;00m \u001b[38;5;28;01mNone\u001b[39;00m \u001b[38;5;28;01melse\u001b[39;00m \u001b[38;5;124m\"\u001b[39m\u001b[38;5;124m\"\u001b[39m)\n\u001b[0;32m-> 7107\u001b[0m   \u001b[38;5;28;01mraise\u001b[39;00m core\u001b[38;5;241m.\u001b[39m_status_to_exception(e) \u001b[38;5;28;01mfrom\u001b[39;00m \u001b[38;5;28mNone\u001b[39m\n",
      "\u001b[0;31mInternalError\u001b[0m: Attempting to perform BLAS operation using StreamExecutor without BLAS support [Op:MatMul]"
     ]
    }
   ],
   "source": [
    "for step, (batch_x, batch_y) in enumerate(train_data.take(training_steps), 1):\n",
    "    run_optimization(batch_x, batch_y)\n",
    "    if step % display_step == 0:\n",
    "        pred = logistic_regression(batch_x)\n",
    "        loss = cross_entropy(pred, batch_y)\n",
    "        acc = accuracy(pred, batch_y)\n",
    "        print(\"step: %i, loss: %f, accuracy: %f\" % (step, loss, acc))"
   ]
  },
  {
   "cell_type": "code",
   "execution_count": 147,
   "id": "70092243-7810-4282-b2e8-82c3d59b24e9",
   "metadata": {},
   "outputs": [
    {
     "name": "stdout",
     "output_type": "stream",
     "text": [
      "Test Accuracy: 0.810056\n"
     ]
    }
   ],
   "source": [
    "pred = logistic_regression(x_val.values)\n",
    "print(\"Test Accuracy: %f\" % accuracy(pred, y_val))"
   ]
  },
  {
   "cell_type": "code",
   "execution_count": 148,
   "id": "b88fce7a-ee12-4417-9146-c9cc485065e5",
   "metadata": {},
   "outputs": [],
   "source": [
    "pred = logistic_regression(X_test_scaled.values)\n",
    "pred = tf.argmax(input=pred, axis=1).numpy()"
   ]
  },
  {
   "cell_type": "code",
   "execution_count": 149,
   "id": "d758eba3-c922-48cc-86a0-be6eb6a8a1b2",
   "metadata": {},
   "outputs": [],
   "source": [
    "pd.concat([df_test, pd.Series(pred, name='Survived')], axis=1)[['PassengerId', 'Survived']].to_csv('../submissions/tf_logreg2_submission.csv', index=False)"
   ]
  },
  {
   "cell_type": "code",
   "execution_count": null,
   "id": "717cf273-c2f6-4035-ad02-8fea83e0f098",
   "metadata": {},
   "outputs": [],
   "source": []
  }
 ],
 "metadata": {
  "kernelspec": {
   "display_name": "Python 3 (ipykernel)",
   "language": "python",
   "name": "python3"
  },
  "language_info": {
   "codemirror_mode": {
    "name": "ipython",
    "version": 3
   },
   "file_extension": ".py",
   "mimetype": "text/x-python",
   "name": "python",
   "nbconvert_exporter": "python",
   "pygments_lexer": "ipython3",
   "version": "3.10.4"
  }
 },
 "nbformat": 4,
 "nbformat_minor": 5
}
