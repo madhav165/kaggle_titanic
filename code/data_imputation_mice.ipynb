{
 "cells": [
  {
   "cell_type": "code",
   "execution_count": 65,
   "id": "19c4a462-133e-4dd5-bf15-1bc8da469df5",
   "metadata": {},
   "outputs": [],
   "source": [
    "import pandas as pd\n",
    "import miceforest as mf\n",
    "from sklearn.linear_model import LinearRegression"
   ]
  },
  {
   "cell_type": "code",
   "execution_count": 66,
   "id": "f798e0c0-a5d3-4fd0-a9de-548a68785525",
   "metadata": {},
   "outputs": [],
   "source": [
    "df_train = pd.read_csv('../data/train.csv')\n",
    "df_test = pd.read_csv('../data/test.csv')"
   ]
  },
  {
   "cell_type": "code",
   "execution_count": 67,
   "id": "d23a2382-8846-47ea-ae0d-031ff1168a2e",
   "metadata": {},
   "outputs": [],
   "source": [
    "df_train['Cabin_Type'] = df_train.loc[df_train['Cabin'].notna()]['Cabin'].apply(lambda x: x[0])\n",
    "df_test['Cabin_Type'] = df_test.loc[df_test['Cabin'].notna()]['Cabin'].apply(lambda x: x[0])\n",
    "\n",
    "df_train['Cabin_Nos'] = df_train.loc[df_train['Cabin'].notna()]['Cabin'].apply(lambda x: len(x.split()))\n",
    "df_test['Cabin_Nos'] = df_test.loc[df_test['Cabin'].notna()]['Cabin'].apply(lambda x: len(x.split()))\n",
    "\n",
    "df_train = df_train.drop(columns='Cabin')\n",
    "df_test = df_test.drop(columns='Cabin')\n",
    "\n",
    "# new_df_train = pd.get_dummies(df_train['Sex'])\n",
    "# df_train = pd.concat([df_train, new_df_train], axis=1)\n",
    "\n",
    "# new_df_test = pd.get_dummies(df_test['Sex'])\n",
    "# df_test = pd.concat([df_test, new_df_test], axis=1)\n",
    "\n",
    "# df_train = df_train.drop(columns=['Sex'])\n",
    "# df_test = df_test.drop(columns=['Sex'])\n",
    "\n",
    "df_train['Sex'] = df_train['Sex'].apply(lambda x: 1 if x=='male' else 0)\n",
    "df_test['Sex'] = df_test['Sex'].apply(lambda x: 1 if x=='male' else 0)\n",
    "\n",
    "df_train['Embarked'] = df_train['Embarked'].fillna('S')\n",
    "df_test['Embarked'] = df_test['Embarked'].fillna('S')\n",
    "\n",
    "new_df_train = pd.get_dummies(df_train['Embarked'])\n",
    "new_cols = ['Embarked_{}'.format(x) for x in new_df_train.columns.values]\n",
    "new_df_train.columns = new_cols\n",
    "df_train = pd.concat([df_train, new_df_train], axis=1)\n",
    "\n",
    "new_df_test = pd.get_dummies(df_test['Embarked'])\n",
    "new_cols = ['Embarked_{}'.format(x) for x in new_df_test.columns.values]\n",
    "new_df_test.columns = new_cols\n",
    "df_test = pd.concat([df_test, new_df_test], axis=1)\n",
    "\n",
    "df_train = df_train.drop(columns=['Embarked'])\n",
    "df_test = df_test.drop(columns=['Embarked'])\n",
    "\n",
    "new_df_train = pd.get_dummies(df_train['Cabin_Type'])\n",
    "new_cols = ['Cabin_Type_{}'.format(x) for x in new_df_train.columns.values]\n",
    "new_df_train.columns = new_cols\n",
    "df_train = pd.concat([df_train, new_df_train], axis=1)\n",
    "\n",
    "new_df_test = pd.get_dummies(df_test['Cabin_Type'])\n",
    "new_cols = ['Cabin_Type_{}'.format(x) for x in new_df_test.columns.values]\n",
    "new_df_test.columns = new_cols\n",
    "df_test = pd.concat([df_test, new_df_test], axis=1)\n",
    "\n",
    "df_train = df_train.drop(columns=['Cabin_Type'])\n",
    "df_test = df_test.drop(columns=['Cabin_Type'])\n",
    "\n",
    "new_df_train = pd.get_dummies(df_train['Pclass'])\n",
    "new_cols = ['Pclass_{}'.format(x) for x in new_df_train.columns.values]\n",
    "new_df_train.columns = new_cols\n",
    "df_train = pd.concat([df_train, new_df_train], axis=1)\n",
    "\n",
    "new_df_test = pd.get_dummies(df_test['Pclass'])\n",
    "new_cols = ['Pclass_{}'.format(x) for x in new_df_test.columns.values]\n",
    "new_df_test.columns = new_cols\n",
    "df_test = pd.concat([df_test, new_df_test], axis=1)\n",
    "\n",
    "df_train = df_train.drop(columns=['Pclass'])\n",
    "df_test = df_test.drop(columns=['Pclass'])\n",
    "\n",
    "df_train['Cabin_Nos'] = df_train['Cabin_Nos'].fillna(1)\n",
    "df_test['Cabin_Nos'] = df_test['Cabin_Nos'].fillna(1)\n",
    "\n",
    "df_test['Cabin_Type_T'] = 0"
   ]
  },
  {
   "cell_type": "code",
   "execution_count": 68,
   "id": "937e9fb8-4283-479e-bc0d-703869796c20",
   "metadata": {},
   "outputs": [],
   "source": [
    "inp_col_list = list(df_train.columns.values)\n",
    "inp_col_list.remove('PassengerId')\n",
    "inp_col_list.remove('Survived')\n",
    "inp_col_list.remove('Name')\n",
    "inp_col_list.remove('Ticket')\n",
    "\n",
    "X_train = df_train[inp_col_list]\n",
    "\n",
    "inp_col_list = list(df_test.columns.values)\n",
    "inp_col_list.remove('PassengerId')\n",
    "inp_col_list.remove('Name')\n",
    "inp_col_list.remove('Ticket')\n",
    "\n",
    "X_test = df_test[inp_col_list]"
   ]
  },
  {
   "cell_type": "code",
   "execution_count": 69,
   "id": "9e27a51b-e3cf-4898-ac2f-e3a7bd50bf2d",
   "metadata": {},
   "outputs": [],
   "source": [
    "df_train_amp = mf.ampute_data(X_train,perc=0.25,random_state=1991)\n",
    "df_test_amp = mf.ampute_data(X_test,perc=0.25,random_state=1991)"
   ]
  },
  {
   "cell_type": "code",
   "execution_count": 70,
   "id": "911935ef-cbb0-4606-aae6-4409dea58e48",
   "metadata": {},
   "outputs": [],
   "source": [
    "# Create kernels. \n",
    "kernel_train = mf.ImputationKernel(\n",
    "    data=df_train_amp,\n",
    "    save_all_iterations=True,\n",
    "    random_state=1991\n",
    ")\n",
    "\n",
    "# Run the MICE algorithm for 3 iterations on each of the datasets\n",
    "kernel_train.mice(3)"
   ]
  },
  {
   "cell_type": "code",
   "execution_count": 71,
   "id": "7e72b43d-d24b-447b-84db-8cab92924a49",
   "metadata": {},
   "outputs": [],
   "source": [
    "# Create kernels. \n",
    "kernel_test = mf.ImputationKernel(\n",
    "    data=df_test_amp,\n",
    "    save_all_iterations=True,\n",
    "    random_state=1991\n",
    ")\n",
    "\n",
    "# Run the MICE algorithm for 3 iterations on each of the datasets\n",
    "kernel_test.mice(3)"
   ]
  },
  {
   "cell_type": "code",
   "execution_count": 72,
   "id": "deb7510c-71d0-483f-9a97-7f74a7120b77",
   "metadata": {},
   "outputs": [],
   "source": [
    "df_train_imp = kernel_train.impute_new_data(df_train_amp).complete_data(0)\n",
    "df_test_imp = kernel_test.impute_new_data(df_test_amp).complete_data(0)"
   ]
  },
  {
   "cell_type": "code",
   "execution_count": 73,
   "id": "ad755d32-4da9-4763-9514-f02c92cf7411",
   "metadata": {},
   "outputs": [],
   "source": [
    "df_train_imp = pd.concat([df_train[['PassengerId', 'Survived', 'Name', 'Ticket']], df_train_imp], axis=1)\n",
    "df_test_imp = pd.concat([df_test[['PassengerId', 'Name', 'Ticket']], df_test_imp], axis=1)"
   ]
  },
  {
   "cell_type": "code",
   "execution_count": 74,
   "id": "8ea0f85c-be96-405d-a049-b0212832612c",
   "metadata": {},
   "outputs": [],
   "source": [
    "df_train_imp.to_csv('../data/train_clean_imp.csv', index=False)\n",
    "df_test_imp.to_csv('../data/test_clean_imp.csv', index=False)"
   ]
  },
  {
   "cell_type": "code",
   "execution_count": 76,
   "id": "aa706262-4a5b-402d-b509-f55622528898",
   "metadata": {},
   "outputs": [
    {
     "data": {
      "text/plain": [
       "PassengerId     0\n",
       "Survived        0\n",
       "Name            0\n",
       "Ticket          0\n",
       "Sex             0\n",
       "Age             0\n",
       "SibSp           0\n",
       "Parch           0\n",
       "Fare            0\n",
       "Cabin_Nos       0\n",
       "Embarked_C      0\n",
       "Embarked_Q      0\n",
       "Embarked_S      0\n",
       "Cabin_Type_A    0\n",
       "Cabin_Type_B    0\n",
       "Cabin_Type_C    0\n",
       "Cabin_Type_D    0\n",
       "Cabin_Type_E    0\n",
       "Cabin_Type_F    0\n",
       "Cabin_Type_G    0\n",
       "Cabin_Type_T    0\n",
       "Pclass_1        0\n",
       "Pclass_2        0\n",
       "Pclass_3        0\n",
       "dtype: int64"
      ]
     },
     "execution_count": 76,
     "metadata": {},
     "output_type": "execute_result"
    }
   ],
   "source": [
    "df_train_imp.isnull().sum()"
   ]
  }
 ],
 "metadata": {
  "kernelspec": {
   "display_name": "Python 3 (ipykernel)",
   "language": "python",
   "name": "python3"
  },
  "language_info": {
   "codemirror_mode": {
    "name": "ipython",
    "version": 3
   },
   "file_extension": ".py",
   "mimetype": "text/x-python",
   "name": "python",
   "nbconvert_exporter": "python",
   "pygments_lexer": "ipython3",
   "version": "3.10.4"
  }
 },
 "nbformat": 4,
 "nbformat_minor": 5
}
