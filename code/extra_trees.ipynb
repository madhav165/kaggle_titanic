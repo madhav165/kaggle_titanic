{
 "cells": [
  {
   "cell_type": "code",
   "execution_count": 1,
   "id": "9864916a-38e1-4df4-a922-c888ff583848",
   "metadata": {},
   "outputs": [],
   "source": [
    "import pandas as pd\n",
    "import numpy as np\n",
    "import matplotlib.pyplot as plt\n",
    "from sklearn import preprocessing\n",
    "from sklearn.preprocessing import OneHotEncoder\n",
    "from sklearn.model_selection import train_test_split\n",
    "from sklearn.ensemble import ExtraTreesClassifier\n",
    "from sklearn.manifold import TSNE"
   ]
  },
  {
   "cell_type": "code",
   "execution_count": 2,
   "id": "ee7b8837-89c0-4b4d-a8ee-c032f0652673",
   "metadata": {},
   "outputs": [],
   "source": [
    "df_train = pd.read_csv('../data/train.csv')\n",
    "df_test = pd.read_csv('../data/test.csv')"
   ]
  },
  {
   "cell_type": "markdown",
   "id": "26aa1a17-daac-44ca-a28c-d6815b3415ec",
   "metadata": {},
   "source": [
    "### Data cleanup"
   ]
  },
  {
   "cell_type": "code",
   "execution_count": 3,
   "id": "1af2ca32-3b1f-47d1-8f87-325252fab08a",
   "metadata": {},
   "outputs": [],
   "source": [
    "df_median_age = df_train.groupby(['Sex', 'Pclass'])['Age'].median().reset_index()\n",
    "df_median_age = df_median_age.rename(columns={'Age' : 'Median_Age'})\n",
    "\n",
    "df_train = df_train.merge(df_median_age, on=['Sex', 'Pclass'], how='left')\n",
    "df_train.loc[df_train['Age'].isna(), 'Age'] = df_train['Median_Age']\n",
    "df_train = df_train.drop(columns = 'Median_Age')\n",
    "\n",
    "df_test = df_test.merge(df_median_age, on=['Sex', 'Pclass'], how='left')\n",
    "df_test.loc[df_test['Age'].isna(), 'Age'] = df_test['Median_Age']\n",
    "df_test = df_test.drop(columns = 'Median_Age')"
   ]
  },
  {
   "cell_type": "code",
   "execution_count": 4,
   "id": "87ec30be-5e8f-4e35-b602-d2163ce223f2",
   "metadata": {},
   "outputs": [],
   "source": [
    "df_train['Cabin_Type'] = df_train.loc[df_train['Cabin'].notna()]['Cabin'].apply(lambda x: x[0])\n",
    "df_test['Cabin_Type'] = df_test.loc[df_test['Cabin'].notna()]['Cabin'].apply(lambda x: x[0])\n",
    "\n",
    "df_train['Cabin_Nos'] = df_train.loc[df_train['Cabin'].notna()]['Cabin'].apply(lambda x: len(x.split()))\n",
    "df_test['Cabin_Nos'] = df_test.loc[df_test['Cabin'].notna()]['Cabin'].apply(lambda x: len(x.split()))\n",
    "\n",
    "df_train = df_train.drop(columns='Cabin')\n",
    "df_test = df_test.drop(columns='Cabin')"
   ]
  },
  {
   "cell_type": "code",
   "execution_count": 5,
   "id": "651e141e-4689-4985-95e5-d418178f9698",
   "metadata": {},
   "outputs": [],
   "source": [
    "new_df_train = pd.get_dummies(df_train['Sex'])\n",
    "df_train = pd.concat([df_train, new_df_train], axis=1)\n",
    "\n",
    "new_df_test = pd.get_dummies(df_test['Sex'])\n",
    "df_test = pd.concat([df_test, new_df_test], axis=1)\n",
    "\n",
    "df_train = df_train.drop(columns=['Sex'])\n",
    "df_test = df_test.drop(columns=['Sex'])"
   ]
  },
  {
   "cell_type": "code",
   "execution_count": 6,
   "id": "8be9f04e-bd47-400c-a3d0-50227de9cce5",
   "metadata": {},
   "outputs": [],
   "source": [
    "df_train['Embarked'] = df_train['Embarked'].fillna('S')\n",
    "df_test['Embarked'] = df_test['Embarked'].fillna('S')\n",
    "\n",
    "new_df_train = pd.get_dummies(df_train['Embarked'])\n",
    "new_cols = ['Embarked_{}'.format(x) for x in new_df_train.columns.values]\n",
    "new_df_train.columns = new_cols\n",
    "df_train = pd.concat([df_train, new_df_train], axis=1)\n",
    "\n",
    "new_df_test = pd.get_dummies(df_test['Embarked'])\n",
    "new_cols = ['Embarked_{}'.format(x) for x in new_df_test.columns.values]\n",
    "new_df_test.columns = new_cols\n",
    "df_test = pd.concat([df_test, new_df_test], axis=1)\n",
    "\n",
    "df_train = df_train.drop(columns=['Embarked'])\n",
    "df_test = df_test.drop(columns=['Embarked'])"
   ]
  },
  {
   "cell_type": "code",
   "execution_count": 7,
   "id": "6bf6d4b9-ca35-4af0-b113-91b07494944a",
   "metadata": {},
   "outputs": [],
   "source": [
    "new_df_train = pd.get_dummies(df_train['Cabin_Type'])\n",
    "new_cols = ['Cabin_Type_{}'.format(x) for x in new_df_train.columns.values]\n",
    "new_df_train.columns = new_cols\n",
    "df_train = pd.concat([df_train, new_df_train], axis=1)\n",
    "\n",
    "new_df_test = pd.get_dummies(df_test['Cabin_Type'])\n",
    "new_cols = ['Cabin_Type_{}'.format(x) for x in new_df_test.columns.values]\n",
    "new_df_test.columns = new_cols\n",
    "df_test = pd.concat([df_test, new_df_test], axis=1)\n",
    "\n",
    "df_train = df_train.drop(columns=['Cabin_Type'])\n",
    "df_test = df_test.drop(columns=['Cabin_Type'])"
   ]
  },
  {
   "cell_type": "code",
   "execution_count": 8,
   "id": "6daa7d34-f9b3-41ac-806a-dde513ae17b5",
   "metadata": {},
   "outputs": [],
   "source": [
    "class_fare_dict = df_train.groupby('Pclass')['Fare'].median().to_dict()\n",
    "\n",
    "df_train['Pclass_Fare_median'] = df_train['Pclass'].apply(lambda x: class_fare_dict[x])\n",
    "df_test['Pclass_Fare_median'] = df_test['Pclass'].apply(lambda x: class_fare_dict[x])\n",
    "\n",
    "df_train.loc[df_train['Fare'].isna(), 'Fare'] = df_train['Pclass_Fare_median']\n",
    "df_test.loc[df_test['Fare'].isna(), 'Fare'] = df_test['Pclass_Fare_median']\n",
    "\n",
    "df_train = df_train.drop(columns = 'Pclass_Fare_median')\n",
    "df_test = df_test.drop(columns = 'Pclass_Fare_median')"
   ]
  },
  {
   "cell_type": "code",
   "execution_count": 9,
   "id": "b8da2347-837f-440f-ac91-aedd6e5928ca",
   "metadata": {},
   "outputs": [],
   "source": [
    "new_df_train = pd.get_dummies(df_train['Pclass'])\n",
    "new_cols = ['Pclass_{}'.format(x) for x in new_df_train.columns.values]\n",
    "new_df_train.columns = new_cols\n",
    "df_train = pd.concat([df_train, new_df_train], axis=1)\n",
    "\n",
    "new_df_test = pd.get_dummies(df_test['Pclass'])\n",
    "new_cols = ['Pclass_{}'.format(x) for x in new_df_test.columns.values]\n",
    "new_df_test.columns = new_cols\n",
    "df_test = pd.concat([df_test, new_df_test], axis=1)\n",
    "\n",
    "df_train = df_train.drop(columns=['Pclass'])\n",
    "df_test = df_test.drop(columns=['Pclass'])"
   ]
  },
  {
   "cell_type": "code",
   "execution_count": 10,
   "id": "039e9185-78f3-4cce-bd65-498446ba37f3",
   "metadata": {},
   "outputs": [],
   "source": [
    "df_train['Cabin_Nos'] = df_train['Cabin_Nos'].fillna(1)\n",
    "df_test['Cabin_Nos'] = df_test['Cabin_Nos'].fillna(1)"
   ]
  },
  {
   "cell_type": "code",
   "execution_count": 11,
   "id": "2b455a57-8586-4446-b3e3-aca59c81fd69",
   "metadata": {},
   "outputs": [],
   "source": [
    "df_test['Cabin_Type_T'] = 0"
   ]
  },
  {
   "cell_type": "code",
   "execution_count": 12,
   "id": "2266bbcd-1247-4bd8-90d5-1d7499fefc70",
   "metadata": {},
   "outputs": [],
   "source": [
    "inp_col_list = list(df_train.columns.values)\n",
    "inp_col_list.remove('PassengerId')\n",
    "inp_col_list.remove('Survived')\n",
    "inp_col_list.remove('Name')\n",
    "inp_col_list.remove('Ticket')\n",
    "# inp_col_list.remove('Age')\n",
    "\n",
    "inp_col_list.remove('Pclass_1')\n",
    "inp_col_list.remove('Pclass_2')\n",
    "inp_col_list.remove('Pclass_3')\n",
    "\n",
    "inp_col_list.remove('Cabin_Type_A')\n",
    "inp_col_list.remove('Cabin_Type_B')\n",
    "inp_col_list.remove('Cabin_Type_C')\n",
    "inp_col_list.remove('Cabin_Type_D')\n",
    "inp_col_list.remove('Cabin_Type_E')\n",
    "inp_col_list.remove('Cabin_Type_F')\n",
    "inp_col_list.remove('Cabin_Type_G')\n",
    "inp_col_list.remove('Cabin_Type_T')\n",
    "\n",
    "inp_col_list.remove('Embarked_C')\n",
    "inp_col_list.remove('Embarked_Q')\n",
    "inp_col_list.remove('Embarked_S')\n",
    "\n",
    "inp_col_list.remove('Parch')\n",
    "\n",
    "inp_col_list.remove('Cabin_Nos')"
   ]
  },
  {
   "cell_type": "code",
   "execution_count": 13,
   "id": "22811efc-2827-4e1a-b16a-4a6d50d345ab",
   "metadata": {},
   "outputs": [],
   "source": [
    "X = df_train[inp_col_list]\n",
    "Y = df_train['Survived']\n",
    "\n",
    "x = X.values\n",
    "min_max_scaler = preprocessing.MinMaxScaler()\n",
    "x_scaled = min_max_scaler.fit_transform(x)\n",
    "X_scaled = pd.DataFrame(x_scaled)\n",
    "\n",
    "x_train, x_test, y_train, y_test = train_test_split(X_scaled, Y, test_size=0.2, random_state=0)"
   ]
  },
  {
   "cell_type": "code",
   "execution_count": 14,
   "id": "bf791b8e-4dbb-4e13-96b6-4e36f8c8296d",
   "metadata": {},
   "outputs": [
    {
     "data": {
      "text/plain": [
       "ExtraTreesClassifier(criterion='entropy', max_depth=7, max_features=None,\n",
       "                     min_impurity_decrease=0.001, min_samples_leaf=5,\n",
       "                     random_state=42)"
      ]
     },
     "execution_count": 14,
     "metadata": {},
     "output_type": "execute_result"
    }
   ],
   "source": [
    "etc = ExtraTreesClassifier(criterion = 'entropy', max_depth = 7, min_samples_leaf = 5, max_features = None, min_impurity_decrease = 1e-3, random_state = 42)\n",
    "etc.fit(x_train, y_train)"
   ]
  },
  {
   "cell_type": "code",
   "execution_count": 15,
   "id": "984fefa6-10f9-4843-867c-01c23130acde",
   "metadata": {},
   "outputs": [
    {
     "name": "stdout",
     "output_type": "stream",
     "text": [
      "0.8044692737430168\n"
     ]
    }
   ],
   "source": [
    "score = etc.score(x_test, y_test)\n",
    "print(score)"
   ]
  },
  {
   "cell_type": "code",
   "execution_count": 16,
   "id": "58529141-b194-4491-9c9e-c797fb25f5eb",
   "metadata": {},
   "outputs": [],
   "source": [
    "leaves = etc.apply(x_train)"
   ]
  },
  {
   "cell_type": "code",
   "execution_count": 19,
   "id": "82bbb39f-378b-4810-8411-79055eb141bb",
   "metadata": {},
   "outputs": [],
   "source": [
    "M = OneHotEncoder().fit_transform(leaves)"
   ]
  },
  {
   "cell_type": "code",
   "execution_count": 21,
   "id": "302ffa6c-d647-4d65-9803-7cbc80db28f0",
   "metadata": {},
   "outputs": [],
   "source": [
    "S = (M*M.transpose()).todense()"
   ]
  },
  {
   "cell_type": "code",
   "execution_count": 23,
   "id": "da106fcd-10cc-45e0-ab39-eb9972a646fb",
   "metadata": {},
   "outputs": [],
   "source": [
    "D = 1 - S/S.max()"
   ]
  },
  {
   "cell_type": "code",
   "execution_count": 27,
   "id": "6afb55ef-40cc-4056-a4d3-4a8342bb42ae",
   "metadata": {},
   "outputs": [
    {
     "name": "stderr",
     "output_type": "stream",
     "text": [
      "/home/madhav/anaconda3/envs/kgl_titanic/lib/python3.10/site-packages/sklearn/manifold/_t_sne.py:780: FutureWarning: The default initialization in TSNE will change from 'random' to 'pca' in 1.2.\n",
      "  warnings.warn(\n",
      "/home/madhav/anaconda3/envs/kgl_titanic/lib/python3.10/site-packages/sklearn/manifold/_t_sne.py:790: FutureWarning: The default learning rate in TSNE will change from 200.0 to 'auto' in 1.2.\n",
      "  warnings.warn(\n",
      "/home/madhav/anaconda3/envs/kgl_titanic/lib/python3.10/site-packages/sklearn/manifold/_t_sne.py:819: FutureWarning: 'square_distances' has been introduced in 0.24 to help phase out legacy squaring behavior. The 'legacy' setting will be removed in 1.1 (renaming of 0.26), and the default setting will be changed to True. In 1.3, 'square_distances' will be removed altogether, and distances will be squared by default. Set 'square_distances'=True to silence this warning.\n",
      "  warnings.warn(\n",
      "/home/madhav/anaconda3/envs/kgl_titanic/lib/python3.10/site-packages/sklearn/utils/validation.py:585: FutureWarning: np.matrix usage is deprecated in 1.0 and will raise a TypeError in 1.2. Please convert to a numpy array with np.asarray. For more information see: https://numpy.org/doc/stable/reference/generated/numpy.matrix.html\n",
      "  warnings.warn(\n"
     ]
    }
   ],
   "source": [
    "embed = TSNE(metric='precomputed', perplexity=30).fit_transform(D)"
   ]
  },
  {
   "cell_type": "code",
   "execution_count": 31,
   "id": "fcb2f612-1c41-4ceb-8dc3-a1b9495efd7e",
   "metadata": {},
   "outputs": [
    {
     "data": {
      "text/plain": [
       "<AxesSubplot:xlabel='0', ylabel='1'>"
      ]
     },
     "execution_count": 31,
     "metadata": {},
     "output_type": "execute_result"
    },
    {
     "data": {
      "image/png": "[encoded data removed]",
      "text/plain": [
       "<Figure size 432x288 with 1 Axes>"
      ]
     },
     "metadata": {
      "needs_background": "light"
     },
     "output_type": "display_data"
    }
   ],
   "source": [
    "pd.DataFrame(embed).plot.scatter(x=0,y=1)"
   ]
  },
  {
   "cell_type": "code",
   "execution_count": 41,
   "id": "c97534bb-59b3-49a7-a490-33162a59133d",
   "metadata": {},
   "outputs": [],
   "source": [
    "X = df_test[inp_col_list]\n",
    "x = X.values\n",
    "min_max_scaler = preprocessing.MinMaxScaler()\n",
    "x_scaled = min_max_scaler.fit_transform(x)\n",
    "X_scaled = pd.DataFrame(x_scaled)"
   ]
  },
  {
   "cell_type": "code",
   "execution_count": 42,
   "id": "85962942-7c66-4297-a30d-cf08e1784a3e",
   "metadata": {},
   "outputs": [],
   "source": [
    "predictions = etc.predict(X_scaled)"
   ]
  },
  {
   "cell_type": "code",
   "execution_count": 43,
   "id": "9ec899fc-8692-42d8-ad74-48e4f2972300",
   "metadata": {},
   "outputs": [],
   "source": [
    "df_test['Survived'] = predictions"
   ]
  },
  {
   "cell_type": "code",
   "execution_count": 44,
   "id": "c094fd5d-2b16-4edb-ade2-ccb4a7084a21",
   "metadata": {},
   "outputs": [],
   "source": [
    "df_test[['PassengerId', 'Survived']].to_csv('../submissions/extra_trees_2_submission.csv', index=False)"
   ]
  },
  {
   "cell_type": "code",
   "execution_count": null,
   "id": "81c8f534-414a-49b1-b193-82ecfd4582f7",
   "metadata": {},
   "outputs": [],
   "source": []
  }
 ],
 "metadata": {
  "kernelspec": {
   "display_name": "Python 3 (ipykernel)",
   "language": "python",
   "name": "python3"
  },
  "language_info": {
   "codemirror_mode": {
    "name": "ipython",
    "version": 3
   },
   "file_extension": ".py",
   "mimetype": "text/x-python",
   "name": "python",
   "nbconvert_exporter": "python",
   "pygments_lexer": "ipython3",
   "version": "3.10.4"
  }
 },
 "nbformat": 4,
 "nbformat_minor": 5
}
