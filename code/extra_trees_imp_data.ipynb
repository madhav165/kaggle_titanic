{
 "cells": [
  {
   "cell_type": "code",
   "execution_count": 1,
   "id": "9864916a-38e1-4df4-a922-c888ff583848",
   "metadata": {},
   "outputs": [],
   "source": [
    "import pandas as pd\n",
    "import numpy as np\n",
    "import matplotlib.pyplot as plt\n",
    "from sklearn import preprocessing\n",
    "from sklearn.preprocessing import OneHotEncoder\n",
    "from sklearn.model_selection import train_test_split\n",
    "from sklearn.ensemble import ExtraTreesClassifier"
   ]
  },
  {
   "cell_type": "code",
   "execution_count": 2,
   "id": "ee7b8837-89c0-4b4d-a8ee-c032f0652673",
   "metadata": {},
   "outputs": [],
   "source": [
    "df_train = pd.read_csv('../data/train_clean_imp.csv')\n",
    "df_test = pd.read_csv('../data/test_clean_imp.csv')"
   ]
  },
  {
   "cell_type": "markdown",
   "id": "26aa1a17-daac-44ca-a28c-d6815b3415ec",
   "metadata": {},
   "source": [
    "### Data cleanup"
   ]
  },
  {
   "cell_type": "code",
   "execution_count": 3,
   "id": "2266bbcd-1247-4bd8-90d5-1d7499fefc70",
   "metadata": {},
   "outputs": [],
   "source": [
    "inp_col_list = list(df_train.columns.values)\n",
    "inp_col_list.remove('PassengerId')\n",
    "inp_col_list.remove('Survived')\n",
    "inp_col_list.remove('Name')\n",
    "inp_col_list.remove('Ticket')\n",
    "# inp_col_list.remove('Age')\n",
    "\n",
    "# inp_col_list.remove('Pclass_1')\n",
    "# inp_col_list.remove('Pclass_2')\n",
    "# inp_col_list.remove('Pclass_3')\n",
    "\n",
    "# inp_col_list.remove('Cabin_Type_A')\n",
    "# inp_col_list.remove('Cabin_Type_B')\n",
    "# inp_col_list.remove('Cabin_Type_C')\n",
    "# inp_col_list.remove('Cabin_Type_D')\n",
    "# inp_col_list.remove('Cabin_Type_E')\n",
    "# inp_col_list.remove('Cabin_Type_F')\n",
    "# inp_col_list.remove('Cabin_Type_G')\n",
    "# inp_col_list.remove('Cabin_Type_T')\n",
    "\n",
    "# inp_col_list.remove('Embarked_C')\n",
    "# inp_col_list.remove('Embarked_Q')\n",
    "# inp_col_list.remove('Embarked_S')\n",
    "\n",
    "# inp_col_list.remove('Parch')\n",
    "\n",
    "# inp_col_list.remove('Cabin_Nos')"
   ]
  },
  {
   "cell_type": "code",
   "execution_count": 4,
   "id": "22811efc-2827-4e1a-b16a-4a6d50d345ab",
   "metadata": {},
   "outputs": [],
   "source": [
    "X = df_train[inp_col_list]\n",
    "Y = df_train['Survived']\n",
    "\n",
    "x = X.values\n",
    "min_max_scaler = preprocessing.MinMaxScaler()\n",
    "x_scaled = min_max_scaler.fit_transform(x)\n",
    "X_scaled = pd.DataFrame(x_scaled)\n",
    "\n",
    "x_train, x_test, y_train, y_test = train_test_split(X_scaled, Y, test_size=0.2, random_state=0)"
   ]
  },
  {
   "cell_type": "code",
   "execution_count": 29,
   "id": "bf791b8e-4dbb-4e13-96b6-4e36f8c8296d",
   "metadata": {},
   "outputs": [
    {
     "data": {
      "text/plain": [
       "ExtraTreesClassifier(criterion='entropy', max_depth=10, max_features=None,\n",
       "                     min_impurity_decrease=0.001, random_state=42)"
      ]
     },
     "execution_count": 29,
     "metadata": {},
     "output_type": "execute_result"
    }
   ],
   "source": [
    "clf = ExtraTreesClassifier(criterion = 'entropy', max_depth = 10, max_features = None, min_impurity_decrease = 1e-3, random_state = 42)\n",
    "clf.fit(x_train, y_train)"
   ]
  },
  {
   "cell_type": "code",
   "execution_count": 30,
   "id": "984fefa6-10f9-4843-867c-01c23130acde",
   "metadata": {},
   "outputs": [
    {
     "name": "stdout",
     "output_type": "stream",
     "text": [
      "0.776536312849162\n"
     ]
    }
   ],
   "source": [
    "score = clf.score(x_test, y_test)\n",
    "print(score)"
   ]
  },
  {
   "cell_type": "code",
   "execution_count": 13,
   "id": "c97534bb-59b3-49a7-a490-33162a59133d",
   "metadata": {},
   "outputs": [],
   "source": [
    "X = df_test[inp_col_list]\n",
    "x = X.values\n",
    "min_max_scaler = preprocessing.MinMaxScaler()\n",
    "x_scaled = min_max_scaler.fit_transform(x)\n",
    "X_scaled = pd.DataFrame(x_scaled)"
   ]
  },
  {
   "cell_type": "code",
   "execution_count": 14,
   "id": "85962942-7c66-4297-a30d-cf08e1784a3e",
   "metadata": {},
   "outputs": [],
   "source": [
    "predictions = clf.predict(X_scaled)"
   ]
  },
  {
   "cell_type": "code",
   "execution_count": 15,
   "id": "9ec899fc-8692-42d8-ad74-48e4f2972300",
   "metadata": {},
   "outputs": [],
   "source": [
    "df_test['Survived'] = predictions"
   ]
  },
  {
   "cell_type": "code",
   "execution_count": 16,
   "id": "c094fd5d-2b16-4edb-ade2-ccb4a7084a21",
   "metadata": {},
   "outputs": [],
   "source": [
    "df_test[['PassengerId', 'Survived']].to_csv('../submissions/extra_trees_imp_1_submission.csv', index=False)"
   ]
  },
  {
   "cell_type": "code",
   "execution_count": null,
   "id": "81c8f534-414a-49b1-b193-82ecfd4582f7",
   "metadata": {},
   "outputs": [],
   "source": []
  }
 ],
 "metadata": {
  "kernelspec": {
   "display_name": "Python 3 (ipykernel)",
   "language": "python",
   "name": "python3"
  },
  "language_info": {
   "codemirror_mode": {
    "name": "ipython",
    "version": 3
   },
   "file_extension": ".py",
   "mimetype": "text/x-python",
   "name": "python",
   "nbconvert_exporter": "python",
   "pygments_lexer": "ipython3",
   "version": "3.10.4"
  }
 },
 "nbformat": 4,
 "nbformat_minor": 5
}
